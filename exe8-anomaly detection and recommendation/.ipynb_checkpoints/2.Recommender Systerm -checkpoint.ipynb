{
 "cells": [
  {
   "cell_type": "markdown",
   "id": "compact-uruguay",
   "metadata": {},
   "source": [
    "# Recommender Systerm (推荐系统)"
   ]
  },
  {
   "cell_type": "code",
   "execution_count": 1,
   "id": "interracial-tribute",
   "metadata": {},
   "outputs": [],
   "source": [
    "import os\n",
    "import numpy as np\n",
    "import pandas as pd\n",
    "import scipy.io as sio\n",
    "import scipy.optimize as opt"
   ]
  },
  {
   "cell_type": "code",
   "execution_count": 2,
   "id": "hazardous-excess",
   "metadata": {},
   "outputs": [],
   "source": [
    "root_dir = '/home/leedo/ML_Andrew_Ng/ML-exe/exe8-anomaly detection and recommendation/data'"
   ]
  },
  {
   "cell_type": "code",
   "execution_count": 3,
   "id": "stuck-optimization",
   "metadata": {},
   "outputs": [
    {
     "data": {
      "text/plain": [
       "dict_keys(['__header__', '__version__', '__globals__', 'Y', 'R'])"
      ]
     },
     "execution_count": 3,
     "metadata": {},
     "output_type": "execute_result"
    }
   ],
   "source": [
    "data1 = sio.loadmat(os.path.join(root_dir,'ex8_movies.mat'))\n",
    "data1.keys()"
   ]
  },
  {
   "cell_type": "code",
   "execution_count": 4,
   "id": "silver-principal",
   "metadata": {},
   "outputs": [
    {
     "name": "stdout",
     "output_type": "stream",
     "text": [
      "(1682, 943) (1682, 943)\n"
     ]
    }
   ],
   "source": [
    "print(data1.get('Y').shape,data1.get('R').shape)"
   ]
  },
  {
   "cell_type": "code",
   "execution_count": 5,
   "id": "brave-complaint",
   "metadata": {},
   "outputs": [
    {
     "data": {
      "text/html": [
       "<div>\n",
       "<style scoped>\n",
       "    .dataframe tbody tr th:only-of-type {\n",
       "        vertical-align: middle;\n",
       "    }\n",
       "\n",
       "    .dataframe tbody tr th {\n",
       "        vertical-align: top;\n",
       "    }\n",
       "\n",
       "    .dataframe thead th {\n",
       "        text-align: right;\n",
       "    }\n",
       "</style>\n",
       "<table border=\"1\" class=\"dataframe\">\n",
       "  <thead>\n",
       "    <tr style=\"text-align: right;\">\n",
       "      <th></th>\n",
       "      <th>0</th>\n",
       "      <th>1</th>\n",
       "      <th>2</th>\n",
       "      <th>3</th>\n",
       "      <th>4</th>\n",
       "      <th>5</th>\n",
       "      <th>6</th>\n",
       "      <th>7</th>\n",
       "      <th>8</th>\n",
       "      <th>9</th>\n",
       "      <th>...</th>\n",
       "      <th>933</th>\n",
       "      <th>934</th>\n",
       "      <th>935</th>\n",
       "      <th>936</th>\n",
       "      <th>937</th>\n",
       "      <th>938</th>\n",
       "      <th>939</th>\n",
       "      <th>940</th>\n",
       "      <th>941</th>\n",
       "      <th>942</th>\n",
       "    </tr>\n",
       "  </thead>\n",
       "  <tbody>\n",
       "    <tr>\n",
       "      <th>0</th>\n",
       "      <td>5</td>\n",
       "      <td>4</td>\n",
       "      <td>0</td>\n",
       "      <td>0</td>\n",
       "      <td>4</td>\n",
       "      <td>4</td>\n",
       "      <td>0</td>\n",
       "      <td>0</td>\n",
       "      <td>0</td>\n",
       "      <td>4</td>\n",
       "      <td>...</td>\n",
       "      <td>2</td>\n",
       "      <td>3</td>\n",
       "      <td>4</td>\n",
       "      <td>0</td>\n",
       "      <td>4</td>\n",
       "      <td>0</td>\n",
       "      <td>0</td>\n",
       "      <td>5</td>\n",
       "      <td>0</td>\n",
       "      <td>0</td>\n",
       "    </tr>\n",
       "    <tr>\n",
       "      <th>1</th>\n",
       "      <td>3</td>\n",
       "      <td>0</td>\n",
       "      <td>0</td>\n",
       "      <td>0</td>\n",
       "      <td>3</td>\n",
       "      <td>0</td>\n",
       "      <td>0</td>\n",
       "      <td>0</td>\n",
       "      <td>0</td>\n",
       "      <td>0</td>\n",
       "      <td>...</td>\n",
       "      <td>4</td>\n",
       "      <td>0</td>\n",
       "      <td>0</td>\n",
       "      <td>0</td>\n",
       "      <td>0</td>\n",
       "      <td>0</td>\n",
       "      <td>0</td>\n",
       "      <td>0</td>\n",
       "      <td>0</td>\n",
       "      <td>5</td>\n",
       "    </tr>\n",
       "    <tr>\n",
       "      <th>2</th>\n",
       "      <td>4</td>\n",
       "      <td>0</td>\n",
       "      <td>0</td>\n",
       "      <td>0</td>\n",
       "      <td>0</td>\n",
       "      <td>0</td>\n",
       "      <td>0</td>\n",
       "      <td>0</td>\n",
       "      <td>0</td>\n",
       "      <td>0</td>\n",
       "      <td>...</td>\n",
       "      <td>0</td>\n",
       "      <td>0</td>\n",
       "      <td>4</td>\n",
       "      <td>0</td>\n",
       "      <td>0</td>\n",
       "      <td>0</td>\n",
       "      <td>0</td>\n",
       "      <td>0</td>\n",
       "      <td>0</td>\n",
       "      <td>0</td>\n",
       "    </tr>\n",
       "    <tr>\n",
       "      <th>3</th>\n",
       "      <td>3</td>\n",
       "      <td>0</td>\n",
       "      <td>0</td>\n",
       "      <td>0</td>\n",
       "      <td>0</td>\n",
       "      <td>0</td>\n",
       "      <td>5</td>\n",
       "      <td>0</td>\n",
       "      <td>0</td>\n",
       "      <td>4</td>\n",
       "      <td>...</td>\n",
       "      <td>5</td>\n",
       "      <td>0</td>\n",
       "      <td>0</td>\n",
       "      <td>0</td>\n",
       "      <td>0</td>\n",
       "      <td>0</td>\n",
       "      <td>2</td>\n",
       "      <td>0</td>\n",
       "      <td>0</td>\n",
       "      <td>0</td>\n",
       "    </tr>\n",
       "    <tr>\n",
       "      <th>4</th>\n",
       "      <td>3</td>\n",
       "      <td>0</td>\n",
       "      <td>0</td>\n",
       "      <td>0</td>\n",
       "      <td>0</td>\n",
       "      <td>0</td>\n",
       "      <td>0</td>\n",
       "      <td>0</td>\n",
       "      <td>0</td>\n",
       "      <td>0</td>\n",
       "      <td>...</td>\n",
       "      <td>0</td>\n",
       "      <td>0</td>\n",
       "      <td>0</td>\n",
       "      <td>0</td>\n",
       "      <td>0</td>\n",
       "      <td>0</td>\n",
       "      <td>0</td>\n",
       "      <td>0</td>\n",
       "      <td>0</td>\n",
       "      <td>0</td>\n",
       "    </tr>\n",
       "  </tbody>\n",
       "</table>\n",
       "<p>5 rows × 943 columns</p>\n",
       "</div>"
      ],
      "text/plain": [
       "   0    1    2    3    4    5    6    7    8    9    ...  933  934  935  936  \\\n",
       "0    5    4    0    0    4    4    0    0    0    4  ...    2    3    4    0   \n",
       "1    3    0    0    0    3    0    0    0    0    0  ...    4    0    0    0   \n",
       "2    4    0    0    0    0    0    0    0    0    0  ...    0    0    4    0   \n",
       "3    3    0    0    0    0    0    5    0    0    4  ...    5    0    0    0   \n",
       "4    3    0    0    0    0    0    0    0    0    0  ...    0    0    0    0   \n",
       "\n",
       "   937  938  939  940  941  942  \n",
       "0    4    0    0    5    0    0  \n",
       "1    0    0    0    0    0    5  \n",
       "2    0    0    0    0    0    0  \n",
       "3    0    0    2    0    0    0  \n",
       "4    0    0    0    0    0    0  \n",
       "\n",
       "[5 rows x 943 columns]"
      ]
     },
     "execution_count": 5,
     "metadata": {},
     "output_type": "execute_result"
    }
   ],
   "source": [
    "data_Y = pd.DataFrame(data1.get('Y'))\n",
    "data_R = pd.DataFrame(data1.get('R'))\n",
    "data_Y.head()"
   ]
  },
  {
   "cell_type": "code",
   "execution_count": 6,
   "id": "turned-accreditation",
   "metadata": {},
   "outputs": [
    {
     "data": {
      "text/plain": [
       "dict_keys(['__header__', '__version__', '__globals__', 'X', 'Theta', 'num_users', 'num_movies', 'num_features'])"
      ]
     },
     "execution_count": 6,
     "metadata": {},
     "output_type": "execute_result"
    }
   ],
   "source": [
    "data2 = sio.loadmat(os.path.join(root_dir,'ex8_movieParams.mat'))\n",
    "data2.keys()"
   ]
  },
  {
   "cell_type": "code",
   "execution_count": 7,
   "id": "collective-acting",
   "metadata": {},
   "outputs": [
    {
     "name": "stdout",
     "output_type": "stream",
     "text": [
      "(1682, 10) (943, 10)\n"
     ]
    }
   ],
   "source": [
    "print(data2.get('X').shape,data2.get('Theta').shape)"
   ]
  },
  {
   "cell_type": "code",
   "execution_count": 8,
   "id": "tropical-settle",
   "metadata": {},
   "outputs": [
    {
     "data": {
      "text/html": [
       "<div>\n",
       "<style scoped>\n",
       "    .dataframe tbody tr th:only-of-type {\n",
       "        vertical-align: middle;\n",
       "    }\n",
       "\n",
       "    .dataframe tbody tr th {\n",
       "        vertical-align: top;\n",
       "    }\n",
       "\n",
       "    .dataframe thead th {\n",
       "        text-align: right;\n",
       "    }\n",
       "</style>\n",
       "<table border=\"1\" class=\"dataframe\">\n",
       "  <thead>\n",
       "    <tr style=\"text-align: right;\">\n",
       "      <th></th>\n",
       "      <th>0</th>\n",
       "      <th>1</th>\n",
       "      <th>2</th>\n",
       "      <th>3</th>\n",
       "      <th>4</th>\n",
       "      <th>5</th>\n",
       "      <th>6</th>\n",
       "      <th>7</th>\n",
       "      <th>8</th>\n",
       "      <th>9</th>\n",
       "    </tr>\n",
       "  </thead>\n",
       "  <tbody>\n",
       "    <tr>\n",
       "      <th>0</th>\n",
       "      <td>1.048686</td>\n",
       "      <td>-0.400232</td>\n",
       "      <td>1.194119</td>\n",
       "      <td>0.371128</td>\n",
       "      <td>0.407607</td>\n",
       "      <td>0.974407</td>\n",
       "      <td>-0.058410</td>\n",
       "      <td>0.861721</td>\n",
       "      <td>-0.697290</td>\n",
       "      <td>0.288746</td>\n",
       "    </tr>\n",
       "    <tr>\n",
       "      <th>1</th>\n",
       "      <td>0.780851</td>\n",
       "      <td>-0.385626</td>\n",
       "      <td>0.521198</td>\n",
       "      <td>0.227355</td>\n",
       "      <td>0.570109</td>\n",
       "      <td>0.641264</td>\n",
       "      <td>-0.550006</td>\n",
       "      <td>0.704021</td>\n",
       "      <td>-0.485835</td>\n",
       "      <td>-0.564624</td>\n",
       "    </tr>\n",
       "    <tr>\n",
       "      <th>2</th>\n",
       "      <td>0.641509</td>\n",
       "      <td>-0.547854</td>\n",
       "      <td>-0.083796</td>\n",
       "      <td>-0.598519</td>\n",
       "      <td>-0.017694</td>\n",
       "      <td>0.299736</td>\n",
       "      <td>-0.720807</td>\n",
       "      <td>0.838546</td>\n",
       "      <td>-0.694832</td>\n",
       "      <td>-1.134796</td>\n",
       "    </tr>\n",
       "    <tr>\n",
       "      <th>3</th>\n",
       "      <td>0.453618</td>\n",
       "      <td>-0.800218</td>\n",
       "      <td>0.680481</td>\n",
       "      <td>-0.081743</td>\n",
       "      <td>0.136601</td>\n",
       "      <td>0.907561</td>\n",
       "      <td>0.277682</td>\n",
       "      <td>0.369300</td>\n",
       "      <td>-1.261208</td>\n",
       "      <td>-0.235581</td>\n",
       "    </tr>\n",
       "    <tr>\n",
       "      <th>4</th>\n",
       "      <td>0.937538</td>\n",
       "      <td>0.106090</td>\n",
       "      <td>0.361953</td>\n",
       "      <td>0.086646</td>\n",
       "      <td>0.287505</td>\n",
       "      <td>0.518644</td>\n",
       "      <td>-0.056871</td>\n",
       "      <td>0.914573</td>\n",
       "      <td>-0.819334</td>\n",
       "      <td>-0.542847</td>\n",
       "    </tr>\n",
       "  </tbody>\n",
       "</table>\n",
       "</div>"
      ],
      "text/plain": [
       "          0         1         2         3         4         5         6  \\\n",
       "0  1.048686 -0.400232  1.194119  0.371128  0.407607  0.974407 -0.058410   \n",
       "1  0.780851 -0.385626  0.521198  0.227355  0.570109  0.641264 -0.550006   \n",
       "2  0.641509 -0.547854 -0.083796 -0.598519 -0.017694  0.299736 -0.720807   \n",
       "3  0.453618 -0.800218  0.680481 -0.081743  0.136601  0.907561  0.277682   \n",
       "4  0.937538  0.106090  0.361953  0.086646  0.287505  0.518644 -0.056871   \n",
       "\n",
       "          7         8         9  \n",
       "0  0.861721 -0.697290  0.288746  \n",
       "1  0.704021 -0.485835 -0.564624  \n",
       "2  0.838546 -0.694832 -1.134796  \n",
       "3  0.369300 -1.261208 -0.235581  \n",
       "4  0.914573 -0.819334 -0.542847  "
      ]
     },
     "execution_count": 8,
     "metadata": {},
     "output_type": "execute_result"
    }
   ],
   "source": [
    "data_X = pd.DataFrame(data2.get('X'))\n",
    "theta = pd.DataFrame(data2.get('Theta'))\n",
    "data_X.head()"
   ]
  },
  {
   "cell_type": "markdown",
   "id": "interracial-anchor",
   "metadata": {},
   "source": [
    "## Collaborative filtering cost function"
   ]
  },
  {
   "cell_type": "code",
   "execution_count": 9,
   "id": "modified-chicago",
   "metadata": {},
   "outputs": [],
   "source": [
    "## X和theta都需要更新，因此把它们放在一起会更简单一些\n",
    "def trans(X,theta):\n",
    "    return np.concatenate((X.ravel(),theta.ravel()))\n",
    "\n",
    "def detrans(mat,n_movies,n_features,nums):\n",
    "    \n",
    "    return mat[:n_movies*n_features].reshape(n_movies,n_features),\\\n",
    "            mat[n_movies*n_features:].reshape(nums,n_features)\n",
    "\n",
    "\n",
    "def cofiCostFun(params,Y,R,n_features):\n",
    "\n",
    "    n_movies,nums = Y.shape[0],Y.shape[1]\n",
    "    X,theta = detrans(params,n_movies,n_features,nums)\n",
    "    \n",
    "    tmp = np.multiply(X @ theta.T-Y,R)\n",
    "    \n",
    "    return 0.5*np.sum(pow(tmp,2))\n",
    "\n",
    "def reg_cofiCostFun(params,Y,R,n_features,lamb):\n",
    "    \n",
    "    reg = lamb*0.5*np.sum(pow(params,2))\n",
    "\n",
    "    return cofiCostFun(params,Y,R,n_features)+ reg\n",
    "\n",
    "\n",
    "def gradient(params,Y,R,n_features):\n",
    "    \n",
    "    n_movies,nums = Y.shape[0],Y.shape[1]\n",
    "    X,theta = detrans(params,n_movies,n_features,nums)\n",
    "    \n",
    "    # 1682*10\n",
    "    temp1 = np.multiply((X @ theta.T-Y), R) @ theta\n",
    "\n",
    "    #943*10\n",
    "    temp2 = np.multiply((X @ theta.T-Y), R).T @ X\n",
    "    \n",
    "    return trans(temp1,temp2)\n",
    "\n",
    "\n",
    "def reg_gradient(params,Y,R,n_features,lamb):\n",
    "      \n",
    "    grad = gradient(params,Y,R,n_features)\n",
    "    \n",
    "    reg_item = lamb * params\n",
    "    \n",
    "    return grad + reg_item"
   ]
  },
  {
   "cell_type": "code",
   "execution_count": 10,
   "id": "taken-highway",
   "metadata": {},
   "outputs": [
    {
     "data": {
      "text/plain": [
       "22.224603725685675"
      ]
     },
     "execution_count": 10,
     "metadata": {},
     "output_type": "execute_result"
    }
   ],
   "source": [
    "#subsets Parameters :num_users = 4 num_movies = 5 num_features = 3\n",
    "X_sub = data_X.values[:5,:3]\n",
    "Y_sub = data_Y.values[:5,:4]\n",
    "R_sub = data_R.values[:5,:4]\n",
    "theta_sub = theta.values[:4,:3]\n",
    "\n",
    "params = trans(X_sub,theta_sub)\n",
    "cofiCostFun(params,Y_sub,R_sub,3)"
   ]
  },
  {
   "cell_type": "code",
   "execution_count": 11,
   "id": "bulgarian-representative",
   "metadata": {},
   "outputs": [
    {
     "name": "stdout",
     "output_type": "stream",
     "text": [
      "27918.64012454421\n",
      "[-5.21315594  2.0591285  -5.68148384 ... -5.27650042  4.22109195\n",
      "  2.11819114]\n"
     ]
    }
   ],
   "source": [
    "params = trans(data_X.values,theta.values)\n",
    "\n",
    "print(cofiCostFun(params,data_Y.values,data_R.values,n_features = 10))\n",
    "\n",
    "print(reg_gradient(params,data_Y.values,data_R.values,10,1))"
   ]
  },
  {
   "cell_type": "code",
   "execution_count": 12,
   "id": "scheduled-sheriff",
   "metadata": {},
   "outputs": [
    {
     "data": {
      "text/plain": [
       "['Toy Story (1995)',\n",
       " 'GoldenEye (1995)',\n",
       " 'Four Rooms (1995)',\n",
       " 'Get Shorty (1995)',\n",
       " 'Copycat (1995)',\n",
       " 'Shanghai Triad (Yao a yao yao dao waipo qiao) (1995)',\n",
       " 'Twelve Monkeys (1995)',\n",
       " 'Babe (1995)',\n",
       " 'Dead Man Walking (1995)',\n",
       " 'Richard III (1995)']"
      ]
     },
     "execution_count": 12,
     "metadata": {},
     "output_type": "execute_result"
    }
   ],
   "source": [
    "movie_list = []\n",
    "\n",
    "with open(os.path.join(root_dir,'movie_ids.txt'),encoding='latin-1') as f:\n",
    "    for line in f:\n",
    "        temp = line.strip().split(' ')\n",
    "        movie_list.append(' '.join(temp[1:]))\n",
    "movie_list[:10]"
   ]
  },
  {
   "cell_type": "code",
   "execution_count": 13,
   "id": "motivated-outline",
   "metadata": {},
   "outputs": [],
   "source": [
    "my_ratings = np.zeros(1682)\n",
    "my_ratings[1] = 3\n",
    "my_ratings[128] = 5\n",
    "my_ratings[176] = 2\n",
    "my_ratings[238] = 4\n",
    "my_ratings[271] = 3\n",
    "my_ratings[384] = 5\n",
    "my_ratings[408] = 1\n",
    "my_ratings[597] = 5\n",
    "my_ratings[872] = 2\n",
    "my_ratings[1297] = 3"
   ]
  },
  {
   "cell_type": "code",
   "execution_count": 14,
   "id": "fixed-lemon",
   "metadata": {},
   "outputs": [
    {
     "data": {
      "text/plain": [
       "(1682, 944)"
      ]
     },
     "execution_count": 14,
     "metadata": {},
     "output_type": "execute_result"
    }
   ],
   "source": [
    "Y = np.insert(data_Y.values,0,my_ratings,axis = 1)\n",
    "Y.shape"
   ]
  },
  {
   "cell_type": "code",
   "execution_count": 15,
   "id": "rural-science",
   "metadata": {},
   "outputs": [
    {
     "data": {
      "text/plain": [
       "(1682, 944)"
      ]
     },
     "execution_count": 15,
     "metadata": {},
     "output_type": "execute_result"
    }
   ],
   "source": [
    "R = np.insert(data_R.values,0,my_ratings != 0, axis=1)\n",
    "R.shape"
   ]
  },
  {
   "cell_type": "code",
   "execution_count": 16,
   "id": "fatty-machinery",
   "metadata": {},
   "outputs": [
    {
     "data": {
      "text/plain": [
       "((1682, 10), (944, 10))"
      ]
     },
     "execution_count": 16,
     "metadata": {},
     "output_type": "execute_result"
    }
   ],
   "source": [
    "X = np.random.standard_normal((1682, 10))\n",
    "theta = np.random.standard_normal((944, 10))\n",
    "\n",
    "X.shape, theta.shape"
   ]
  },
  {
   "cell_type": "code",
   "execution_count": 17,
   "id": "proved-villa",
   "metadata": {},
   "outputs": [],
   "source": [
    "params = trans(X,theta)\n",
    "Y_norm = Y - Y.mean()"
   ]
  },
  {
   "cell_type": "code",
   "execution_count": 18,
   "id": "hydraulic-gregory",
   "metadata": {},
   "outputs": [],
   "source": [
    "res = opt.minimize(fun = reg_cofiCostFun , \n",
    "                   x0 = params, \n",
    "                   args = (Y_norm,R,10,5),\n",
    "                   method = 'TNC',\n",
    "                   jac=reg_gradient)"
   ]
  },
  {
   "cell_type": "code",
   "execution_count": 19,
   "id": "solved-detector",
   "metadata": {
    "scrolled": true
   },
   "outputs": [
    {
     "data": {
      "text/plain": [
       "     fun: 49240.51001489318\n",
       "     jac: array([-1.36285205e-08,  5.07696067e-07,  4.97967938e-07, ...,\n",
       "       -1.07270492e-06,  8.59392022e-07,  8.41116132e-08])\n",
       " message: 'Converged (|f_n-f_(n-1)| ~= 0)'\n",
       "    nfev: 1367\n",
       "     nit: 51\n",
       "  status: 1\n",
       " success: True\n",
       "       x: array([-0.89811259, -0.51455151,  0.56158756, ...,  0.10985945,\n",
       "       -1.03295854,  0.21509494])"
      ]
     },
     "execution_count": 19,
     "metadata": {},
     "output_type": "execute_result"
    }
   ],
   "source": [
    "res"
   ]
  },
  {
   "cell_type": "code",
   "execution_count": 20,
   "id": "commercial-portfolio",
   "metadata": {},
   "outputs": [
    {
     "data": {
      "text/plain": [
       "(1682, 10)"
      ]
     },
     "execution_count": 20,
     "metadata": {},
     "output_type": "execute_result"
    }
   ],
   "source": [
    "X_final,theta_final = detrans(res.x,1682,10,944)\n",
    "X_final.shape"
   ]
  },
  {
   "cell_type": "code",
   "execution_count": 21,
   "id": "italic-atlanta",
   "metadata": {},
   "outputs": [
    {
     "name": "stdout",
     "output_type": "stream",
     "text": [
      "[312  49  95 173 301 171 299 168 175 180]\n",
      "[3.93471659 3.86491497 3.81692885 3.71916257 3.69541733 3.68800515\n",
      " 3.68725836 3.64966028 3.64447157 3.62395749]\n"
     ]
    }
   ],
   "source": [
    "y_pred = X_final @ theta_final.T\n",
    "my_prediction = y_pred[:,0] + Y.mean()\n",
    "\n",
    "idx = np.argsort(my_prediction)[::-1] ##返回top10的索引，\n",
    "print(idx[:10])\n",
    "print(my_prediction[idx][:10])"
   ]
  },
  {
   "cell_type": "code",
   "execution_count": 22,
   "id": "narrow-lambda",
   "metadata": {},
   "outputs": [
    {
     "name": "stdout",
     "output_type": "stream",
     "text": [
      "Titanic (1997)\n",
      "Star Wars (1977)\n",
      "Terminator 2: Judgment Day (1991)\n",
      "Raiders of the Lost Ark (1981)\n",
      "L.A. Confidential (1997)\n",
      "Empire Strikes Back, The (1980)\n",
      "Air Force One (1997)\n",
      "Wrong Trousers, The (1993)\n",
      "Aliens (1986)\n",
      "Return of the Jedi (1983)\n"
     ]
    }
   ],
   "source": [
    "for i in idx[:10]:\n",
    "    print(movie_list[i])"
   ]
  },
  {
   "cell_type": "code",
   "execution_count": null,
   "id": "superb-indonesia",
   "metadata": {},
   "outputs": [],
   "source": []
  }
 ],
 "metadata": {
  "kernelspec": {
   "display_name": "Python 3",
   "language": "python",
   "name": "python3"
  },
  "language_info": {
   "codemirror_mode": {
    "name": "ipython",
    "version": 3
   },
   "file_extension": ".py",
   "mimetype": "text/x-python",
   "name": "python",
   "nbconvert_exporter": "python",
   "pygments_lexer": "ipython3",
   "version": "3.6.9"
  }
 },
 "nbformat": 4,
 "nbformat_minor": 5
}
