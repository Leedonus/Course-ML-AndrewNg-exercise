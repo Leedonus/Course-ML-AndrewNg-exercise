{
 "cells": [
  {
   "cell_type": "markdown",
   "id": "cooked-california",
   "metadata": {},
   "source": [
    "# Search for best parameters"
   ]
  },
  {
   "cell_type": "code",
   "execution_count": 1,
   "id": "missing-maryland",
   "metadata": {},
   "outputs": [],
   "source": [
    "import os\n",
    "import numpy as np\n",
    "import pandas as pd\n",
    "import scipy.io as sio\n",
    "\n",
    "from sklearn import svm\n",
    "from matplotlib import pyplot as plt"
   ]
  },
  {
   "cell_type": "code",
   "execution_count": 2,
   "id": "blessed-circus",
   "metadata": {},
   "outputs": [
    {
     "data": {
      "text/plain": [
       "dict_keys(['__header__', '__version__', '__globals__', 'X', 'y', 'yval', 'Xval'])"
      ]
     },
     "execution_count": 2,
     "metadata": {},
     "output_type": "execute_result"
    }
   ],
   "source": [
    "## 加载数据并可视化\n",
    "raw_data = sio.loadmat(\"/home/leedo/ML_Andrew_Ng/ML-exe/exe6-SVM/data/ex6data3.mat\")\n",
    "raw_data.keys()"
   ]
  },
  {
   "cell_type": "code",
   "execution_count": 3,
   "id": "settled-methodology",
   "metadata": {},
   "outputs": [
    {
     "data": {
      "text/html": [
       "<div>\n",
       "<style scoped>\n",
       "    .dataframe tbody tr th:only-of-type {\n",
       "        vertical-align: middle;\n",
       "    }\n",
       "\n",
       "    .dataframe tbody tr th {\n",
       "        vertical-align: top;\n",
       "    }\n",
       "\n",
       "    .dataframe thead th {\n",
       "        text-align: right;\n",
       "    }\n",
       "</style>\n",
       "<table border=\"1\" class=\"dataframe\">\n",
       "  <thead>\n",
       "    <tr style=\"text-align: right;\">\n",
       "      <th></th>\n",
       "      <th>X1</th>\n",
       "      <th>X2</th>\n",
       "      <th>y</th>\n",
       "    </tr>\n",
       "  </thead>\n",
       "  <tbody>\n",
       "    <tr>\n",
       "      <th>0</th>\n",
       "      <td>-0.158986</td>\n",
       "      <td>0.423977</td>\n",
       "      <td>1</td>\n",
       "    </tr>\n",
       "    <tr>\n",
       "      <th>1</th>\n",
       "      <td>-0.347926</td>\n",
       "      <td>0.470760</td>\n",
       "      <td>1</td>\n",
       "    </tr>\n",
       "    <tr>\n",
       "      <th>2</th>\n",
       "      <td>-0.504608</td>\n",
       "      <td>0.353801</td>\n",
       "      <td>1</td>\n",
       "    </tr>\n",
       "    <tr>\n",
       "      <th>3</th>\n",
       "      <td>-0.596774</td>\n",
       "      <td>0.114035</td>\n",
       "      <td>1</td>\n",
       "    </tr>\n",
       "    <tr>\n",
       "      <th>4</th>\n",
       "      <td>-0.518433</td>\n",
       "      <td>-0.172515</td>\n",
       "      <td>1</td>\n",
       "    </tr>\n",
       "  </tbody>\n",
       "</table>\n",
       "</div>"
      ],
      "text/plain": [
       "         X1        X2  y\n",
       "0 -0.158986  0.423977  1\n",
       "1 -0.347926  0.470760  1\n",
       "2 -0.504608  0.353801  1\n",
       "3 -0.596774  0.114035  1\n",
       "4 -0.518433 -0.172515  1"
      ]
     },
     "execution_count": 3,
     "metadata": {},
     "output_type": "execute_result"
    }
   ],
   "source": [
    "data = pd.DataFrame(raw_data['X'] , columns=['X1','X2'])\n",
    "data['y'] = raw_data['y']\n",
    "\n",
    "val = pd.DataFrame(raw_data.get('Xval'),columns=['X1','X2'])\n",
    "val['yval'] = raw_data['yval']\n",
    "\n",
    "data.head()"
   ]
  },
  {
   "cell_type": "code",
   "execution_count": 4,
   "id": "essential-questionnaire",
   "metadata": {},
   "outputs": [
    {
     "data": {
      "image/png": "[encoded data removed]",
      "text/plain": [
       "<Figure size 864x576 with 1 Axes>"
      ]
     },
     "metadata": {
      "needs_background": "light"
     },
     "output_type": "display_data"
    }
   ],
   "source": [
    "positive = data[data['y'].isin([1])]\n",
    "negative = data[data['y'].isin([0])]\n",
    "\n",
    "fig ,ax  =plt.subplots(figsize=(12,8))\n",
    "\n",
    "ax.scatter(positive['X1'],positive['X2'],s=50,marker='o',label = '1')\n",
    "ax.scatter(negative['X1'],negative['X2'],s=50,marker='x',label = '0')\n",
    "ax.legend()\n",
    "plt.show()"
   ]
  },
  {
   "cell_type": "markdown",
   "id": "dress-castle",
   "metadata": {},
   "source": [
    "## 寻找最佳参数"
   ]
  },
  {
   "cell_type": "code",
   "execution_count": 5,
   "id": "compliant-syndrome",
   "metadata": {},
   "outputs": [
    {
     "data": {
      "text/plain": [
       "81"
      ]
     },
     "execution_count": 5,
     "metadata": {},
     "output_type": "execute_result"
    }
   ],
   "source": [
    "param = [0.01,0.03,0.1,0.3,1,3,10,30,100]\n",
    "\n",
    "param_set  = [(C,gamma) for C in param for gamma in param]\n",
    "len(param_set)"
   ]
  },
  {
   "cell_type": "code",
   "execution_count": 6,
   "id": "changing-briefs",
   "metadata": {},
   "outputs": [
    {
     "name": "stdout",
     "output_type": "stream",
     "text": [
      "best score:0.965,best param:(0.3, 100)\n"
     ]
    }
   ],
   "source": [
    "score = []\n",
    "for C,gamma in param_set:\n",
    "    svc = svm.SVC(C=C,gamma=gamma)\n",
    "    svc.fit(data[['X1','X2']],data['y'])\n",
    "    score.append(svc.score(val[['X1','X2']],val['yval']))\n",
    "\n",
    "best_score = score[np.argmax(score)]\n",
    "best_param = param_set[np.argmax(score)]\n",
    "print('best score:{},best param:{}'.format(best_score,best_param))"
   ]
  },
  {
   "cell_type": "code",
   "execution_count": null,
   "id": "biblical-staff",
   "metadata": {},
   "outputs": [],
   "source": []
  }
 ],
 "metadata": {
  "kernelspec": {
   "display_name": "Python 3",
   "language": "python",
   "name": "python3"
  },
  "language_info": {
   "codemirror_mode": {
    "name": "ipython",
    "version": 3
   },
   "file_extension": ".py",
   "mimetype": "text/x-python",
   "name": "python",
   "nbconvert_exporter": "python",
   "pygments_lexer": "ipython3",
   "version": "3.6.9"
  }
 },
 "nbformat": 4,
 "nbformat_minor": 5
}
