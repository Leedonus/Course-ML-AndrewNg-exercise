{
 "cells": [
  {
   "cell_type": "markdown",
   "id": "threatened-continent",
   "metadata": {},
   "source": [
    "# ex2. Logistic Regression逻辑回归"
   ]
  },
  {
   "cell_type": "code",
   "execution_count": 1,
   "id": "broad-botswana",
   "metadata": {},
   "outputs": [],
   "source": [
    "import os\n",
    "import numpy as np\n",
    "import pandas as pd\n",
    "import seaborn as sns\n",
    "import scipy.optimize as opt\n",
    "\n",
    "from pandasgui import show\n",
    "from sklearn.metrics import classification_report\n",
    "from matplotlib import pyplot as plt"
   ]
  },
  {
   "cell_type": "markdown",
   "id": "classified-benchmark",
   "metadata": {},
   "source": [
    "## 数据读取"
   ]
  },
  {
   "cell_type": "code",
   "execution_count": 3,
   "id": "maritime-compilation",
   "metadata": {},
   "outputs": [],
   "source": [
    "root_dir = '/home/leedo/ML_Andrew_Ng/ML-exe/exe2-Logitic Regression'\n",
    "df = pd.read_csv(os.path.join(root_dir,'ex2data1.txt'),names = ['exam1','exam2','result'])"
   ]
  },
  {
   "cell_type": "code",
   "execution_count": 4,
   "id": "worldwide-airplane",
   "metadata": {},
   "outputs": [
    {
     "data": {
      "text/html": [
       "<div>\n",
       "<style scoped>\n",
       "    .dataframe tbody tr th:only-of-type {\n",
       "        vertical-align: middle;\n",
       "    }\n",
       "\n",
       "    .dataframe tbody tr th {\n",
       "        vertical-align: top;\n",
       "    }\n",
       "\n",
       "    .dataframe thead th {\n",
       "        text-align: right;\n",
       "    }\n",
       "</style>\n",
       "<table border=\"1\" class=\"dataframe\">\n",
       "  <thead>\n",
       "    <tr style=\"text-align: right;\">\n",
       "      <th></th>\n",
       "      <th>exam1</th>\n",
       "      <th>exam2</th>\n",
       "      <th>result</th>\n",
       "    </tr>\n",
       "  </thead>\n",
       "  <tbody>\n",
       "    <tr>\n",
       "      <th>0</th>\n",
       "      <td>34.623660</td>\n",
       "      <td>78.024693</td>\n",
       "      <td>0</td>\n",
       "    </tr>\n",
       "    <tr>\n",
       "      <th>1</th>\n",
       "      <td>30.286711</td>\n",
       "      <td>43.894998</td>\n",
       "      <td>0</td>\n",
       "    </tr>\n",
       "    <tr>\n",
       "      <th>2</th>\n",
       "      <td>35.847409</td>\n",
       "      <td>72.902198</td>\n",
       "      <td>0</td>\n",
       "    </tr>\n",
       "    <tr>\n",
       "      <th>3</th>\n",
       "      <td>60.182599</td>\n",
       "      <td>86.308552</td>\n",
       "      <td>1</td>\n",
       "    </tr>\n",
       "    <tr>\n",
       "      <th>4</th>\n",
       "      <td>79.032736</td>\n",
       "      <td>75.344376</td>\n",
       "      <td>1</td>\n",
       "    </tr>\n",
       "  </tbody>\n",
       "</table>\n",
       "</div>"
      ],
      "text/plain": [
       "       exam1      exam2  result\n",
       "0  34.623660  78.024693       0\n",
       "1  30.286711  43.894998       0\n",
       "2  35.847409  72.902198       0\n",
       "3  60.182599  86.308552       1\n",
       "4  79.032736  75.344376       1"
      ]
     },
     "execution_count": 4,
     "metadata": {},
     "output_type": "execute_result"
    }
   ],
   "source": [
    "df.head()"
   ]
  },
  {
   "cell_type": "markdown",
   "id": "charitable-portland",
   "metadata": {},
   "source": [
    "## 数据可视化"
   ]
  },
  {
   "cell_type": "code",
   "execution_count": 8,
   "id": "dense-withdrawal",
   "metadata": {},
   "outputs": [
    {
     "data": {
      "text/plain": [
       "<AxesSubplot:xlabel='exam1', ylabel='exam2'>"
      ]
     },
     "execution_count": 8,
     "metadata": {},
     "output_type": "execute_result"
    },
    {
     "data": {
      "image/png": "[encoded data removed]",
      "text/plain": [
       "<Figure size 432x288 with 1 Axes>"
      ]
     },
     "metadata": {
      "needs_background": "light"
     },
     "output_type": "display_data"
    }
   ],
   "source": [
    "sns.scatterplot(x='exam1',y='exam2',hue='result',data = df)"
   ]
  },
  {
   "cell_type": "code",
   "execution_count": 9,
   "id": "golden-escape",
   "metadata": {},
   "outputs": [],
   "source": [
    "def get_x(df):#读取特征\n",
    "    ones = pd.DataFrame({'ones': np.ones(len(df))})#ones是m行1列的dataframe\n",
    "    data = pd.concat([ones, df], axis=1)  # 增加特征，根据列合并数据\n",
    "    return np.array(data.iloc[:, :-1]) "
   ]
  },
  {
   "cell_type": "code",
   "execution_count": 10,
   "id": "convinced-checkout",
   "metadata": {},
   "outputs": [],
   "source": [
    "def get_y(df):#读取标签\n",
    "    return np.array(df.iloc[:, -1])"
   ]
  },
  {
   "cell_type": "code",
   "execution_count": 11,
   "id": "discrete-centre",
   "metadata": {},
   "outputs": [],
   "source": [
    "def normolization(df):#特征缩放\n",
    "        return df.apply(lambda x: (x-x.mean())/x.std())"
   ]
  },
  {
   "cell_type": "code",
   "execution_count": 12,
   "id": "approximate-excerpt",
   "metadata": {},
   "outputs": [
    {
     "name": "stdout",
     "output_type": "stream",
     "text": [
      "(100, 3) (100,)\n"
     ]
    }
   ],
   "source": [
    "x = get_x(df)\n",
    "y = get_y(df)\n",
    "print(x.shape,y.shape)"
   ]
  },
  {
   "cell_type": "markdown",
   "id": "increased-permission",
   "metadata": {},
   "source": [
    "## sigmoid 函数\n",
    "g 代表一个常用的逻辑函数（logistic function）为S形函数（Sigmoid function），公式为： \\\\[g\\left( z \\right)=\\frac{1}{1+{{e}^{-z}}}\\\\] \n",
    "我们可以得到逻辑回归模型的假设函数： \n",
    "\t\\\\[{{h}_{\\theta }}\\left( x \\right)=\\frac{1}{1+{{e}^{-{{\\theta }^{T}}X}}}\\\\] "
   ]
  },
  {
   "cell_type": "code",
   "execution_count": 13,
   "id": "decreased-miracle",
   "metadata": {},
   "outputs": [],
   "source": [
    "def sigmoid(x):\n",
    "    return 1/(1+np.exp(-x))"
   ]
  },
  {
   "cell_type": "code",
   "execution_count": 14,
   "id": "further-species",
   "metadata": {},
   "outputs": [
    {
     "data": {
      "image/png": "[encoded data removed]",
      "text/plain": [
       "<Figure size 432x288 with 1 Axes>"
      ]
     },
     "metadata": {
      "needs_background": "light"
     },
     "output_type": "display_data"
    }
   ],
   "source": [
    "num = np.arange(-10,10)\n",
    "plt.plot(num,sigmoid(num))\n",
    "plt.show()"
   ]
  },
  {
   "cell_type": "markdown",
   "id": "occasional-wealth",
   "metadata": {},
   "source": [
    "## 梯度下降\n",
    "$$\\frac{\\partial J\\left( \\theta  \\right)}{\\partial {{\\theta }_{j}}}=\\frac{1}{m}\\sum\\limits_{i=1}^{m}{({{h}_{\\theta }}\\left( {{x}^{(i)}} \\right)-{{y}^{(i)}})x_{_{j}}^{(i)}}$$"
   ]
  },
  {
   "cell_type": "code",
   "execution_count": 15,
   "id": "mathematical-smart",
   "metadata": {},
   "outputs": [],
   "source": [
    "##这里ndarray和matrix需要注意一下区别，如果是matrix需要使用np.multiply()\n",
    "#代价计算函数\n",
    "def compute_cost(theta,x,y):\n",
    "    return np.mean(-y*np.log(sigmoid(x.dot(theta)))-(1 - y)*np.log(1-sigmoid(x.dot(theta))))\n",
    "\n",
    "#梯度计算函数，这里只是计算一个batch \n",
    "def gradient(theta,x,y):\n",
    "    return (1/len(x))*x.T.dot(sigmoid(x.dot(theta))-y)"
   ]
  },
  {
   "cell_type": "code",
   "execution_count": 16,
   "id": "painful-phase",
   "metadata": {},
   "outputs": [
    {
     "name": "stdout",
     "output_type": "stream",
     "text": [
      "(3,)\n"
     ]
    }
   ],
   "source": [
    "#初始化theta\n",
    "theta = np.zeros(df.shape[1])\n",
    "print(theta.shape)"
   ]
  },
  {
   "cell_type": "code",
   "execution_count": 17,
   "id": "widespread-atlantic",
   "metadata": {},
   "outputs": [
    {
     "name": "stdout",
     "output_type": "stream",
     "text": [
      "0.6931471805599453 [ -0.1        -12.00921659 -11.26284221]\n"
     ]
    }
   ],
   "source": [
    "print(compute_cost(theta,x,y),gradient(theta,x,y))"
   ]
  },
  {
   "cell_type": "markdown",
   "id": "hourly-reach",
   "metadata": {},
   "source": [
    "## 利用scipy.optimize寻找参数"
   ]
  },
  {
   "cell_type": "code",
   "execution_count": 18,
   "id": "protecting-preview",
   "metadata": {},
   "outputs": [],
   "source": [
    "res = opt.minimize(fun=compute_cost, x0=theta, args=(x, y), method='Newton-CG', jac=gradient)\n",
    "##这里需要注意参数的传递，即代价计算函数和梯度计算函数中参数的顺序需要和minimize中一致"
   ]
  },
  {
   "cell_type": "code",
   "execution_count": 19,
   "id": "concrete-replication",
   "metadata": {},
   "outputs": [
    {
     "name": "stdout",
     "output_type": "stream",
     "text": [
      "     fun: 0.2034977015897889\n",
      "     jac: array([2.50564130e-06, 1.43357235e-04, 1.69727942e-04])\n",
      " message: 'Optimization terminated successfully.'\n",
      "    nfev: 72\n",
      "    nhev: 0\n",
      "     nit: 28\n",
      "    njev: 182\n",
      "  status: 0\n",
      " success: True\n",
      "       x: array([-25.161382  ,   0.2062321 ,   0.20147199])\n"
     ]
    }
   ],
   "source": [
    "print(res)"
   ]
  },
  {
   "cell_type": "markdown",
   "id": "chinese-baker",
   "metadata": {},
   "source": [
    "## 寻找决策边界"
   ]
  },
  {
   "cell_type": "code",
   "execution_count": 20,
   "id": "pharmaceutical-kelly",
   "metadata": {
    "scrolled": true
   },
   "outputs": [
    {
     "data": {
      "image/png": "[encoded data removed]",
      "text/plain": [
       "<Figure size 1152x648 with 1 Axes>"
      ]
     },
     "metadata": {
      "needs_background": "light"
     },
     "output_type": "display_data"
    }
   ],
   "source": [
    "theta_res = res.x\n",
    "x = np.arange(130)\n",
    "y = -theta_res[0]/theta_res[2]-theta_res[1]/theta_res[2]*x\n",
    "\n",
    "#显示结果\n",
    "fig = plt.figure(figsize = (16,9))\n",
    "sns.scatterplot(x='exam1', y='exam2', hue='result', data=df)\n",
    "plt.plot(x, y, 'grey')\n",
    "plt.title('Boundary')\n",
    "plt.show()"
   ]
  },
  {
   "cell_type": "markdown",
   "id": "assumed-favor",
   "metadata": {},
   "source": [
    "# 正则化逻辑回归"
   ]
  },
  {
   "cell_type": "code",
   "execution_count": 21,
   "id": "attended-rubber",
   "metadata": {},
   "outputs": [
    {
     "data": {
      "image/png": "[encoded data removed]",
      "text/plain": [
       "<Figure size 864x576 with 1 Axes>"
      ]
     },
     "metadata": {
      "needs_background": "light"
     },
     "output_type": "display_data"
    }
   ],
   "source": [
    "#数据读取\n",
    "df_2 = pd.read_csv(os.path.join(root_dir,'ex2data2.txt'),names = ['Test1','Test2','Accepted']) \n",
    "#数据可视化\n",
    "positive = df_2[df_2['Accepted'].isin([1])]\n",
    "negative = df_2[df_2['Accepted'].isin([0])]\n",
    "\n",
    "fig, ax = plt.subplots(figsize=(12,8))\n",
    "ax.scatter(positive['Test1'], positive['Test2'], s=50, c='b', marker='o', label='Accepted')\n",
    "ax.scatter(negative['Test1'], negative['Test2'], s=50, c='r', marker='x', label='Rejected')\n",
    "ax.legend()\n",
    "ax.set_xlabel('Test1')\n",
    "ax.set_ylabel('Test2')\n",
    "plt.show()"
   ]
  },
  {
   "cell_type": "markdown",
   "id": "twelve-auction",
   "metadata": {},
   "source": [
    "## 正则化代价函数和梯度下降\n",
    "$$J\\left( \\theta  \\right)=\\frac{1}{m}\\sum\\limits_{i=1}^{m}{[-{{y}^{(i)}}\\log \\left( {{h}_{\\theta }}\\left( {{x}^{(i)}} \\right) \\right)-\\left( 1-{{y}^{(i)}} \\right)\\log \\left( 1-{{h}_{\\theta }}\\left( {{x}^{(i)}} \\right) \\right)]}+\\frac{\\lambda }{2m}\\sum\\limits_{j=1}^{n}{\\theta _{j}^{2}}$$\n",
    "\n",
    "lambda是一个超参数，一个权值，用来控制对参数惩罚的程度，由于对theta0不做惩罚，因此可分为两种情况\n",
    "\\begin{align}\n",
    "  & Repeat\\text{ }until\\text{ }convergence\\text{ }\\!\\!\\{\\!\\!\\text{ } \\\\ \n",
    " & \\text{     }{{\\theta }_{0}}:={{\\theta }_{0}}-a\\frac{1}{m}\\sum\\limits_{i=1}^{m}{[{{h}_{\\theta }}\\left( {{x}^{(i)}} \\right)-{{y}^{(i)}}]x_{_{0}}^{(i)}} \\\\ \n",
    " & \\text{     }{{\\theta }_{j}}:={{\\theta }_{j}}-a\\frac{1}{m}\\sum\\limits_{i=1}^{m}{[{{h}_{\\theta }}\\left( {{x}^{(i)}} \\right)-{{y}^{(i)}}]x_{j}^{(i)}}+\\frac{\\lambda }{m}{{\\theta }_{j}} \\\\ \n",
    " & \\text{          }\\!\\!\\}\\!\\!\\text{ } \\\\ \n",
    " & Repeat \\\\ \n",
    "\\end{align}\n",
    "\n",
    "对上面的算法中 j=1,2,...,n 时的更新式子进行调整可得： \n",
    "${{\\theta }_{j}}:={{\\theta }_{j}}(1-a\\frac{\\lambda }{m})-a\\frac{1}{m}\\sum\\limits_{i=1}^{m}{({{h}_{\\theta }}\\left( {{x}^{(i)}} \\right)-{{y}^{(i)}})x_{j}^{(i)}}$\n"
   ]
  },
  {
   "cell_type": "code",
   "execution_count": 22,
   "id": "reliable-champagne",
   "metadata": {},
   "outputs": [],
   "source": [
    "#加入了参数惩罚项\n",
    "def compute_cost_nor(theta,x,y,lamb):\n",
    "        return compute_cost(theta,x,y)+(lamb/(2*len(x)))*np.sum(pow(theta[1:],2))\n",
    "\n",
    "#正则化梯度计算\n",
    "def gradient_nor(theta,x,y,lamb):\n",
    "        grad = np.zeros(x.shape[1])\n",
    "        grad_tmp = (1/len(x))*x.T.dot(sigmoid(x.dot(theta))-y)\n",
    "        grad[0]  = grad_tmp[0]  \n",
    "        grad[1:] =  grad_tmp[1:]+(lamb/len(x))*theta[1:]\n",
    "        return  grad"
   ]
  },
  {
   "cell_type": "code",
   "execution_count": 23,
   "id": "asian-bundle",
   "metadata": {},
   "outputs": [],
   "source": [
    "#由于数据没有线性的决策边界，因此使用多项式\n",
    "def mapFeature(x,y,degree):\n",
    "    data = {\"F{}{}\".format(i-j,j):pow(x,i-j)*pow(y,j) for i in range(degree+1) for j in range(i+1)}\n",
    "    return data"
   ]
  },
  {
   "cell_type": "code",
   "execution_count": 24,
   "id": "computational-picnic",
   "metadata": {},
   "outputs": [],
   "source": [
    "x_2 = df_2['Test1']\n",
    "y_2 = df_2['Test2']\n",
    "degree = 6\n",
    "df_3 = pd.DataFrame(mapFeature(x_2,y_2,degree))\n",
    "x_nor = np.array(df_3)\n",
    "y_nor = get_y(df_2)"
   ]
  },
  {
   "cell_type": "code",
   "execution_count": 25,
   "id": "ongoing-george",
   "metadata": {},
   "outputs": [],
   "source": [
    "theta_nor = np.zeros(df_3.shape[1])\n",
    "lamb = 1"
   ]
  },
  {
   "cell_type": "code",
   "execution_count": 30,
   "id": "critical-turning",
   "metadata": {},
   "outputs": [
    {
     "name": "stdout",
     "output_type": "stream",
     "text": [
      "0.6931471805599454\n",
      "[8.47457627e-03 1.87880932e-02 7.77711864e-05 5.03446395e-02\n",
      " 1.15013308e-02 3.76648474e-02 1.83559872e-02 7.32393391e-03\n",
      " 8.19244468e-03 2.34764889e-02 3.93486234e-02 2.23923907e-03\n",
      " 1.28600503e-02 3.09593720e-03 3.93028171e-02 1.99707467e-02\n",
      " 4.32983232e-03 3.38643902e-03 5.83822078e-03 4.47629067e-03\n",
      " 3.10079849e-02 3.10312442e-02 1.09740238e-03 6.31570797e-03\n",
      " 4.08503006e-04 7.26504316e-03 1.37646175e-03 3.87936363e-02]\n"
     ]
    }
   ],
   "source": [
    "print(compute_cost_nor(theta_nor,x_nor,y_nor,lamb))\n",
    "print(gradient_nor(theta_nor,x_nor,y_nor,lamb))"
   ]
  },
  {
   "cell_type": "code",
   "execution_count": 32,
   "id": "applicable-vatican",
   "metadata": {
    "scrolled": true
   },
   "outputs": [
    {
     "name": "stdout",
     "output_type": "stream",
     "text": [
      "     fun: 0.5290027297127257\n",
      "     jac: array([ 2.58477504e-07, -3.57461630e-08,  1.05367233e-07,  2.28173012e-08,\n",
      "       -5.92108029e-10,  1.34860095e-08, -7.19226873e-09,  1.90736229e-08,\n",
      "        7.70718487e-09,  9.23393614e-09, -4.38487831e-08, -1.18950410e-08,\n",
      "       -3.17106023e-08,  5.06525519e-09, -2.20677467e-08, -8.95934628e-09,\n",
      "        1.30088487e-08, -1.09205942e-08, -9.17856603e-09,  7.59557959e-09,\n",
      "       -2.36689890e-08, -2.88520657e-08, -6.60905018e-10, -1.51757834e-08,\n",
      "       -6.41288044e-09, -1.26380286e-08,  1.83973019e-09, -3.27718934e-08])\n",
      " message: 'Optimization terminated successfully.'\n",
      "    nfev: 7\n",
      "    nhev: 0\n",
      "     nit: 6\n",
      "    njev: 59\n",
      "  status: 0\n",
      " success: True\n",
      "       x: array([ 1.2727393 ,  0.62527127,  1.18108824, -2.01996023, -0.91742468,\n",
      "       -1.43166396,  0.12400691, -0.36553448, -0.35723953, -0.17513032,\n",
      "       -1.4581573 , -0.0509899 , -0.61555617, -0.27470685, -1.19281583,\n",
      "       -0.24218782, -0.20600587, -0.04473113, -0.27778489, -0.29537823,\n",
      "       -0.45635698, -1.04320271,  0.0277715 , -0.29243178,  0.01556636,\n",
      "       -0.32737983, -0.14388745, -0.92465172])\n"
     ]
    }
   ],
   "source": [
    "##参数拟合\n",
    "res_nor = opt.minimize(fun=compute_cost_nor, x0=theta_nor, args=(x_nor, y_nor,lamb), method='Newton-CG', jac=gradient_nor)\n",
    "print(res_nor)\n",
    "theta_res = res_nor.x"
   ]
  },
  {
   "cell_type": "markdown",
   "id": "demographic-cherry",
   "metadata": {},
   "source": [
    "## 结果预测"
   ]
  },
  {
   "cell_type": "code",
   "execution_count": 33,
   "id": "occupational-judges",
   "metadata": {},
   "outputs": [],
   "source": [
    "#预测函数\n",
    "def predict(theta,x):\n",
    "    pre = sigmoid(x.dot(theta))\n",
    "    return (pre>=0.5).astype(int)"
   ]
  },
  {
   "cell_type": "code",
   "execution_count": 34,
   "id": "existing-opposition",
   "metadata": {},
   "outputs": [
    {
     "name": "stdout",
     "output_type": "stream",
     "text": [
      "              precision    recall  f1-score   support\n",
      "\n",
      "           0       0.90      0.75      0.82        60\n",
      "           1       0.78      0.91      0.84        58\n",
      "\n",
      "    accuracy                           0.83       118\n",
      "   macro avg       0.84      0.83      0.83       118\n",
      "weighted avg       0.84      0.83      0.83       118\n",
      "\n"
     ]
    }
   ],
   "source": [
    "y_pred = predict(theta_res,x_nor)\n",
    "print(classification_report(y_nor, y_pred))"
   ]
  },
  {
   "cell_type": "code",
   "execution_count": null,
   "id": "caroline-scientist",
   "metadata": {},
   "outputs": [],
   "source": []
  }
 ],
 "metadata": {
  "kernelspec": {
   "display_name": "Python 3",
   "language": "python",
   "name": "python3"
  },
  "language_info": {
   "codemirror_mode": {
    "name": "ipython",
    "version": 3
   },
   "file_extension": ".py",
   "mimetype": "text/x-python",
   "name": "python",
   "nbconvert_exporter": "python",
   "pygments_lexer": "ipython3",
   "version": "3.6.9"
  }
 },
 "nbformat": 4,
 "nbformat_minor": 5
}
