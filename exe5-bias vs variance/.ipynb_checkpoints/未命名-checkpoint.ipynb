{
 "cells": [
  {
   "cell_type": "code",
   "execution_count": 170,
   "id": "objective-lighter",
   "metadata": {},
   "outputs": [],
   "source": [
    "import pandas as pd\n",
    "import os\n",
    "import numpy as np\n",
    "import scipy.optimize as opt\n",
    "import scipy.io as sio\n",
    "import seaborn as sns\n",
    "\n",
    "from matplotlib import pyplot as plt\n"
   ]
  },
  {
   "cell_type": "markdown",
   "id": "solar-class",
   "metadata": {},
   "source": [
    "## 可视化数据"
   ]
  },
  {
   "cell_type": "code",
   "execution_count": 171,
   "id": "secret-suspect",
   "metadata": {},
   "outputs": [
    {
     "data": {
      "text/plain": [
       "{'__header__': b'MATLAB 5.0 MAT-file, Platform: GLNXA64, Created on: Fri Nov  4 22:27:26 2011',\n",
       " '__version__': '1.0',\n",
       " '__globals__': [],\n",
       " 'X': array([[-15.93675813],\n",
       "        [-29.15297922],\n",
       "        [ 36.18954863],\n",
       "        [ 37.49218733],\n",
       "        [-48.05882945],\n",
       "        [ -8.94145794],\n",
       "        [ 15.30779289],\n",
       "        [-34.70626581],\n",
       "        [  1.38915437],\n",
       "        [-44.38375985],\n",
       "        [  7.01350208],\n",
       "        [ 22.76274892]]),\n",
       " 'y': array([[ 2.13431051],\n",
       "        [ 1.17325668],\n",
       "        [34.35910918],\n",
       "        [36.83795516],\n",
       "        [ 2.80896507],\n",
       "        [ 2.12107248],\n",
       "        [14.71026831],\n",
       "        [ 2.61418439],\n",
       "        [ 3.74017167],\n",
       "        [ 3.73169131],\n",
       "        [ 7.62765885],\n",
       "        [22.7524283 ]]),\n",
       " 'Xtest': array([[-33.31800399],\n",
       "        [-37.91216403],\n",
       "        [-51.20693795],\n",
       "        [ -6.13259585],\n",
       "        [ 21.26118327],\n",
       "        [-40.31952949],\n",
       "        [-14.54153167],\n",
       "        [ 32.55976024],\n",
       "        [ 13.39343255],\n",
       "        [ 44.20988595],\n",
       "        [ -1.14267768],\n",
       "        [-12.76686065],\n",
       "        [ 34.05450539],\n",
       "        [ 39.22350028],\n",
       "        [  1.97449674],\n",
       "        [ 29.6217551 ],\n",
       "        [-23.66962971],\n",
       "        [ -9.01180139],\n",
       "        [-55.94057091],\n",
       "        [-35.70859752],\n",
       "        [  9.51020533]]),\n",
       " 'ytest': array([[ 3.31688953],\n",
       "        [ 5.39768952],\n",
       "        [ 0.13042984],\n",
       "        [ 6.1925982 ],\n",
       "        [17.08848712],\n",
       "        [ 0.79950805],\n",
       "        [ 2.82479183],\n",
       "        [28.62123334],\n",
       "        [17.04639081],\n",
       "        [55.38437334],\n",
       "        [ 4.07936733],\n",
       "        [ 8.27039793],\n",
       "        [31.32355102],\n",
       "        [39.15906103],\n",
       "        [ 8.08727989],\n",
       "        [24.11134389],\n",
       "        [ 2.4773548 ],\n",
       "        [ 6.56606472],\n",
       "        [ 6.0380888 ],\n",
       "        [ 4.69273956],\n",
       "        [10.83004606]]),\n",
       " 'Xval': array([[-16.74653578],\n",
       "        [-14.57747075],\n",
       "        [ 34.51575866],\n",
       "        [-47.01007574],\n",
       "        [ 36.97511905],\n",
       "        [-40.68611002],\n",
       "        [ -4.47201098],\n",
       "        [ 26.53363489],\n",
       "        [-42.7976831 ],\n",
       "        [ 25.37409938],\n",
       "        [-31.10955398],\n",
       "        [ 27.31176864],\n",
       "        [ -3.26386201],\n",
       "        [ -1.81827649],\n",
       "        [-40.7196624 ],\n",
       "        [-50.01324365],\n",
       "        [-17.41177155],\n",
       "        [  3.5881937 ],\n",
       "        [  7.08548026],\n",
       "        [ 46.28236902],\n",
       "        [ 14.61228909]]),\n",
       " 'yval': array([[ 4.17020201e+00],\n",
       "        [ 4.06726280e+00],\n",
       "        [ 3.18730676e+01],\n",
       "        [ 1.06236562e+01],\n",
       "        [ 3.18360213e+01],\n",
       "        [ 4.95936972e+00],\n",
       "        [ 4.45159880e+00],\n",
       "        [ 2.22763185e+01],\n",
       "        [-4.38738274e-05],\n",
       "        [ 2.05038016e+01],\n",
       "        [ 3.85834476e+00],\n",
       "        [ 1.93650529e+01],\n",
       "        [ 4.88376281e+00],\n",
       "        [ 1.10971588e+01],\n",
       "        [ 7.46170827e+00],\n",
       "        [ 1.47693464e+00],\n",
       "        [ 2.71916388e+00],\n",
       "        [ 1.09269007e+01],\n",
       "        [ 8.34871235e+00],\n",
       "        [ 5.27819280e+01],\n",
       "        [ 1.33573396e+01]])}"
      ]
     },
     "execution_count": 171,
     "metadata": {},
     "output_type": "execute_result"
    }
   ],
   "source": [
    "data = sio.loadmat(\"/home/leedo/ML_Andrew_Ng/ML-exe/exe5-bias vs variance/ex5data1.mat\")\n",
    "data"
   ]
  },
  {
   "cell_type": "code",
   "execution_count": 172,
   "id": "labeled-neighborhood",
   "metadata": {},
   "outputs": [
    {
     "name": "stdout",
     "output_type": "stream",
     "text": [
      "(21, 1)\n"
     ]
    }
   ],
   "source": [
    "X = data['X']\n",
    "y = data['y']\n",
    "\n",
    "Xtest = data['Xtest']\n",
    "ytest = data['ytest']\n",
    "Xval = data['Xval']\n",
    "yval = data['yval']\n",
    "print(Xval.shape)"
   ]
  },
  {
   "cell_type": "code",
   "execution_count": 173,
   "id": "descending-excitement",
   "metadata": {},
   "outputs": [
    {
     "data": {
      "text/plain": [
       "Text(0.5, 1.0, 'Training Data')"
      ]
     },
     "execution_count": 173,
     "metadata": {},
     "output_type": "execute_result"
    },
    {
     "data": {
      "image/png": "[encoded data removed]",
      "text/plain": [
       "<Figure size 432x288 with 1 Axes>"
      ]
     },
     "metadata": {
      "needs_background": "light"
     },
     "output_type": "display_data"
    }
   ],
   "source": [
    "plt.plot(X,y,\"rx\")\n",
    "\n",
    "x_ticks = np.linspace(-50, 40, 10)  # 产生区间在-50至40间的10个均匀数值\n",
    "plt.xticks(x_ticks)\n",
    "\n",
    "plt.xlabel('Change in water level (x)')\n",
    "plt.ylabel('Water flowing out of the dam (y)')\n",
    "plt.title('Training Data')"
   ]
  },
  {
   "cell_type": "code",
   "execution_count": 174,
   "id": "irish-drill",
   "metadata": {},
   "outputs": [],
   "source": [
    "X = np.insert(X,0,1,axis=1)\n",
    "Xtest = np.insert(Xtest,0,1,axis=1)\n",
    "Xval = np.insert(Xval,0,1,axis=1)"
   ]
  },
  {
   "cell_type": "markdown",
   "id": "naughty-arizona",
   "metadata": {},
   "source": [
    "## 正则化线性回归的代价函数"
   ]
  },
  {
   "cell_type": "code",
   "execution_count": 101,
   "id": "blank-transfer",
   "metadata": {},
   "outputs": [],
   "source": [
    "def cost(theta,X,y):\n",
    "    m = len(X)\n",
    "    h = X.dot(theta)\n",
    "    h = h.reshape(X.shape[0],1)\n",
    "    cost_data = np.sum(pow(h-y,2))/(2*m)\n",
    "    return cost_data\n",
    "\n",
    "\n",
    "def cost_reg(theta,X,y,lamb):\n",
    "    m = len(X)\n",
    "    reg = np.sum(pow(theta[1:],2))*(lamb/(2*m))\n",
    "    cost_data = cost(theta,X,y)\n",
    "    return cost_data + reg\n"
   ]
  },
  {
   "cell_type": "code",
   "execution_count": 102,
   "id": "confused-conditioning",
   "metadata": {},
   "outputs": [
    {
     "data": {
      "text/plain": [
       "(2,)"
      ]
     },
     "execution_count": 102,
     "metadata": {},
     "output_type": "execute_result"
    }
   ],
   "source": [
    "init_theta = np.ones(X.shape[1])\n",
    "init_theta.shape"
   ]
  },
  {
   "cell_type": "code",
   "execution_count": 103,
   "id": "ranging-latino",
   "metadata": {},
   "outputs": [
    {
     "data": {
      "text/plain": [
       "303.9931922202643"
      ]
     },
     "execution_count": 103,
     "metadata": {},
     "output_type": "execute_result"
    }
   ],
   "source": [
    "cost_reg(init_theta,X,y,lamb=1)"
   ]
  },
  {
   "cell_type": "markdown",
   "id": "revised-florida",
   "metadata": {},
   "source": [
    "## 正则化线性回归梯度"
   ]
  },
  {
   "cell_type": "code",
   "execution_count": 104,
   "id": "absent-outreach",
   "metadata": {},
   "outputs": [],
   "source": [
    "def gradient(theta,X,y):\n",
    "    h = X.dot(theta)\n",
    "    h = h.reshape(X.shape[0],1)\n",
    "    grad = X.T.dot(h-y)\n",
    "    return grad/X.shape[0]\n",
    "\n",
    "def gradient_reg(theta,X,y,lamb):\n",
    "    theta_tmp = theta.copy()\n",
    "    theta_tmp[0] = 0\n",
    "    reg = (lamb/len(X))*theta_tmp\n",
    "    return gradient(theta,X,y).T + reg"
   ]
  },
  {
   "cell_type": "code",
   "execution_count": 75,
   "id": "hawaiian-listening",
   "metadata": {},
   "outputs": [
    {
     "data": {
      "text/plain": [
       "array([[-15.30301567, 598.25074417]])"
      ]
     },
     "execution_count": 75,
     "metadata": {},
     "output_type": "execute_result"
    }
   ],
   "source": [
    "init_theta = np.ones(2)\n",
    "#gradient(init_theta,X,y)\n",
    "gradient_reg(init_theta,X,y,lamb=1)"
   ]
  },
  {
   "cell_type": "markdown",
   "id": "accompanied-orleans",
   "metadata": {},
   "source": [
    "## 拟合线性回归"
   ]
  },
  {
   "cell_type": "code",
   "execution_count": 151,
   "id": "waiting-surprise",
   "metadata": {},
   "outputs": [],
   "source": [
    "def fitting(X,y,lamb):\n",
    "    theta = np.ones(X.shape[1])\n",
    "    res = opt.minimize(fun = cost_reg,\n",
    "                   x0=theta,\n",
    "                   args=(X,y,lamb),\n",
    "                   method='TNC', \n",
    "                   jac=gradient_reg,\n",
    "                   options = {'disp':True}\n",
    "                   )\n",
    "    return res"
   ]
  },
  {
   "cell_type": "code",
   "execution_count": 137,
   "id": "swedish-chinese",
   "metadata": {},
   "outputs": [
    {
     "name": "stdout",
     "output_type": "stream",
     "text": [
      "     fun: 22.373906495108923\n",
      "     jac: array([[ 1.12329844e-07, -4.11893619e-07]])\n",
      " message: 'Converged (|f_n-f_(n-1)| ~= 0)'\n",
      "    nfev: 9\n",
      "     nit: 4\n",
      "  status: 1\n",
      " success: True\n",
      "       x: array([13.08790362,  0.36777923])\n"
     ]
    }
   ],
   "source": [
    "res = fitting(X,y,lamb=0)\n",
    "print(res)\n",
    "final_theta = res.x"
   ]
  },
  {
   "cell_type": "code",
   "execution_count": 138,
   "id": "abroad-chocolate",
   "metadata": {},
   "outputs": [
    {
     "data": {
      "image/png": "[encoded data removed]",
      "text/plain": [
       "<Figure size 432x288 with 1 Axes>"
      ]
     },
     "metadata": {
      "needs_background": "light"
     },
     "output_type": "display_data"
    }
   ],
   "source": [
    "##\n",
    "theta0 = res.x[0]\n",
    "theta1 = res.x[1]\n",
    "\n",
    "\n",
    "x = np.arange(-40,50,10)\n",
    "y1 = theta0 + theta1*x\n",
    "\n",
    "y = data['y']\n",
    "plt.plot(X[:,1],y,\"rx\",label ='origin data')\n",
    "\n",
    "x_ticks = np.linspace(-50, 40, 10)  # 产生区间在-50至40间的10个均匀数值\n",
    "plt.xticks(x_ticks)\n",
    "\n",
    "plt.xlabel('Change in water level (x)')\n",
    "plt.ylabel('Water flowing out of the dam (y)')\n",
    "plt.title('Training Data')\n",
    "\n",
    "plt.plot(x,y1,label = 'predict')\n",
    "plt.legend()\n",
    "plt.show()"
   ]
  },
  {
   "cell_type": "markdown",
   "id": "conservative-template",
   "metadata": {},
   "source": [
    "# 偏差 vs 方差"
   ]
  },
  {
   "cell_type": "code",
   "execution_count": 139,
   "id": "above-truth",
   "metadata": {},
   "outputs": [],
   "source": [
    "\n",
    "k = len(X)\n",
    "\n",
    "def learning_curve(X,y,Xval,yval,k,lamb):\n",
    "    \n",
    "    cost_val = []\n",
    "    cost_train = []\n",
    "    for i in range(2,k+1):\n",
    "        res = fitting(X[:i,:],y[:i],lamb)\n",
    "        ##计算代价是不需要加正则化项的，正则化项用来更新梯度\n",
    "        costi = cost(res.x,X[:i,:],y[:i])\n",
    "        costj = cost(res.x,Xval,yval)\n",
    "        cost_val.append(costj)\n",
    "        cost_train.append(costi)\n",
    "    return cost_val , cost_train"
   ]
  },
  {
   "cell_type": "code",
   "execution_count": 140,
   "id": "constitutional-ordering",
   "metadata": {},
   "outputs": [],
   "source": [
    "cost_val , cost_train = learning_curve(X,y,Xval,yval,k,lamb = 0)"
   ]
  },
  {
   "cell_type": "code",
   "execution_count": 158,
   "id": "bibliographic-bailey",
   "metadata": {},
   "outputs": [
    {
     "data": {
      "image/png": "[encoded data removed]",
      "text/plain": [
       "<Figure size 432x288 with 1 Axes>"
      ]
     },
     "metadata": {
      "needs_background": "light"
     },
     "output_type": "display_data"
    }
   ],
   "source": [
    "##绘制学习曲线\n",
    "x1 = np.arange(2,k+1,1)\n",
    "plt.plot(x1,cost_val,label = 'val_cost')\n",
    "plt.plot(x1,cost_train, label = 'train_cost')\n",
    "plt.legend()\n",
    "plt.show()"
   ]
  },
  {
   "cell_type": "markdown",
   "id": "quarterly-inspector",
   "metadata": {},
   "source": [
    "# 多项式回归"
   ]
  },
  {
   "cell_type": "code",
   "execution_count": 159,
   "id": "sudden-conservative",
   "metadata": {},
   "outputs": [],
   "source": [
    "## 构建数据\n",
    "##def map_feature(x,set,degree):\n",
    "##    data = {\"X{}{}\".format(set,i):pow(x,i) for i in range(degree)}\n",
    "##    return data\n",
    "\n",
    "def map_feature(x,degree):\n",
    "    \n",
    "    df = x \n",
    "    \n",
    "    for i in range(2,degree+1):\n",
    "        df = np.concatenate((df,pow(x,i)),axis=1)\n",
    "    return pd.DataFrame(df)\n",
    "\n",
    "def normalization(df):\n",
    "    return df.apply(lambda x:(x-x.mean())/x.std())\n",
    "\n",
    "def data_process(data,degree):\n",
    "    df = map_feature(data,degree)\n",
    "    df = normalization(df)\n",
    "    df = df.values\n",
    "    df = np.insert(df,0,1,axis=1) \n",
    "    return df"
   ]
  },
  {
   "cell_type": "code",
   "execution_count": 160,
   "id": "dress-southeast",
   "metadata": {},
   "outputs": [
    {
     "data": {
      "text/plain": [
       "array([[ 1.00000000e+00, -3.62140776e-01, -7.55086688e-01,\n",
       "         1.82225876e-01, -7.06189908e-01,  3.06617917e-01,\n",
       "        -5.90877673e-01,  3.44515797e-01, -5.08481165e-01],\n",
       "       [ 1.00000000e+00, -8.03204845e-01,  1.25825266e-03,\n",
       "        -2.47936991e-01, -3.27023420e-01,  9.33963187e-02,\n",
       "        -4.35817606e-01,  2.55416116e-01, -4.48912493e-01],\n",
       "       [ 1.00000000e+00,  1.37746700e+00,  5.84826715e-01,\n",
       "         1.24976856e+00,  2.45311974e-01,  9.78359696e-01,\n",
       "        -1.21556976e-02,  7.56568484e-01, -1.70352114e-01],\n",
       "       [ 1.00000000e+00,  1.42093988e+00,  7.06646754e-01,\n",
       "         1.35984559e+00,  3.95534038e-01,  1.10616178e+00,\n",
       "         1.25637135e-01,  8.71929081e-01, -5.96376930e-02],\n",
       "       [ 1.00000000e+00, -1.43414853e+00,  1.85399982e+00,\n",
       "        -2.03716308e+00,  2.33143133e+00, -2.41153626e+00,\n",
       "         2.60221195e+00, -2.64567451e+00,  2.76608525e+00],\n",
       "       [ 1.00000000e+00, -1.28687086e-01, -9.75968776e-01,\n",
       "         2.51385075e-01, -7.39686869e-01,  3.16952928e-01,\n",
       "        -5.94996630e-01,  3.45811812e-01, -5.08955348e-01],\n",
       "       [ 1.00000000e+00,  6.80581552e-01, -7.80028951e-01,\n",
       "         3.40655738e-01, -7.11721115e-01,  3.26509131e-01,\n",
       "        -5.91790179e-01,  3.46829996e-01, -5.08613048e-01],\n",
       "       [ 1.00000000e+00, -9.88534310e-01,  4.51358004e-01,\n",
       "        -6.01281871e-01,  9.29171228e-02, -2.18472948e-01,\n",
       "        -1.41608474e-01,  3.94034925e-02, -2.66692688e-01],\n",
       "       [ 1.00000000e+00,  2.16075753e-01, -1.07499276e+00,\n",
       "         2.66275156e-01, -7.43369047e-01,  3.17561391e-01,\n",
       "        -5.95129245e-01,  3.45834898e-01, -5.08960051e-01],\n",
       "       [ 1.00000000e+00, -1.31150068e+00,  1.42280595e+00,\n",
       "        -1.54812094e+00,  1.49339625e+00, -1.51590767e+00,\n",
       "         1.38865478e+00, -1.36830664e+00,  1.22414353e+00],\n",
       "       [ 1.00000000e+00,  4.03776736e-01, -1.01501039e+00,\n",
       "         2.73378511e-01, -7.41976547e-01,  3.17741982e-01,\n",
       "        -5.95098361e-01,  3.45839115e-01, -5.08959377e-01],\n",
       "       [ 1.00000000e+00,  9.29375305e-01, -4.19807932e-01,\n",
       "         5.10968368e-01, -5.88623813e-01,  3.82615735e-01,\n",
       "        -5.59030004e-01,  3.61832357e-01, -5.00664801e-01]])"
      ]
     },
     "execution_count": 160,
     "metadata": {},
     "output_type": "execute_result"
    }
   ],
   "source": [
    "#d = map_feature(data['X'],'train',8)\n",
    "X_train = data_process(data['X'],8)\n",
    "X_test = data_process(data['Xtest'],8)\n",
    "X_val = data_process(data['Xval'],8)\n",
    "X_train"
   ]
  },
  {
   "cell_type": "code",
   "execution_count": 161,
   "id": "strategic-cancer",
   "metadata": {},
   "outputs": [
    {
     "data": {
      "text/plain": [
       "     fun: 7.2681481039744416\n",
       "     jac: array([[ 1.28128642e-06, -4.71204441e-07,  7.03688740e-07,\n",
       "        -2.40736462e-07, -8.00785929e-08, -7.19677367e-07,\n",
       "         8.19190089e-07, -7.04922665e-07,  3.89559852e-07]])\n",
       " message: 'Converged (|f_n-f_(n-1)| ~= 0)'\n",
       "    nfev: 37\n",
       "     nit: 8\n",
       "  status: 1\n",
       " success: True\n",
       "       x: array([11.21759061,  8.58517793,  5.21269479,  3.59111703,  2.28294435,\n",
       "        1.7603005 ,  1.06813174,  1.10762807,  0.39399253])"
      ]
     },
     "execution_count": 161,
     "metadata": {},
     "output_type": "execute_result"
    }
   ],
   "source": [
    "y = data['y']\n",
    "res_2 = fitting(X_train,y,lamb=1)\n",
    "res_2"
   ]
  },
  {
   "cell_type": "code",
   "execution_count": 162,
   "id": "stock-element",
   "metadata": {},
   "outputs": [
    {
     "data": {
      "text/plain": [
       "[<matplotlib.lines.Line2D at 0x7fc5b2230550>]"
      ]
     },
     "execution_count": 162,
     "metadata": {},
     "output_type": "execute_result"
    },
    {
     "data": {
      "image/png": "[encoded data removed]",
      "text/plain": [
       "<Figure size 432x288 with 1 Axes>"
      ]
     },
     "metadata": {
      "needs_background": "light"
     },
     "output_type": "display_data"
    }
   ],
   "source": [
    "final_theta = res_2.x\n",
    "x_1 = np.linspace(-40,50,10)\n",
    "\n",
    "y_1 = final_theta[0] \n",
    "degree = 8\n",
    "for i in range(1,degree+1):\n",
    "    y_1+= final_theta[i]*pow(x_1,i)\n",
    "\n",
    "y = data['y']\n",
    "plt.plot(X[:,1],y,\"rx\")\n",
    "\n",
    "x_ticks = np.linspace(-50, 40,10)  # 产生区间在-50至40间的10个均匀数值\n",
    "plt.xticks(x_ticks)\n",
    "\n",
    "plt.xlabel('Change in water level (x)')\n",
    "plt.ylabel('Water flowing out of the dam (y)')\n",
    "plt.title('Training Data') \n",
    "\n",
    "plt.plot(x_1,y_1)"
   ]
  },
  {
   "cell_type": "code",
   "execution_count": 169,
   "id": "behavioral-button",
   "metadata": {},
   "outputs": [
    {
     "data": {
      "image/png": "[encoded data removed]",
      "text/plain": [
       "<Figure size 432x288 with 1 Axes>"
      ]
     },
     "metadata": {
      "needs_background": "light"
     },
     "output_type": "display_data"
    }
   ],
   "source": [
    "##绘制学习曲线 lambda = 0\n",
    "val_cost, train_cost = learning_curve(X_train,y,X_val,yval,k,lamb=0)\n",
    "\n",
    "x2 = np.arange(2,k+1)\n",
    "plt.plot(x2,val_cost,label = 'val_cost')\n",
    "plt.plot(x2,train_cost, label = 'train_cost')\n",
    "plt.title('Training data with lambda = 0')\n",
    "plt.legend()\n",
    "plt.show()"
   ]
  },
  {
   "cell_type": "code",
   "execution_count": 164,
   "id": "senior-youth",
   "metadata": {},
   "outputs": [
    {
     "data": {
      "image/png": "[encoded data removed]",
      "text/plain": [
       "<Figure size 432x288 with 1 Axes>"
      ]
     },
     "metadata": {
      "needs_background": "light"
     },
     "output_type": "display_data"
    }
   ],
   "source": [
    "##绘制学习曲线 lambda = 1\n",
    "val_cost, train_cost = learning_curve(X_train,y,X_val,yval,k,lamb=1)\n",
    "\n",
    "x2 = np.arange(2,k+1,1)\n",
    "plt.plot(x2,val_cost,label = 'val_cost')\n",
    "plt.plot(x2,train_cost, label = 'train_cost')\n",
    "plt.title('Training data with lambda = 1')\n",
    "plt.legend()\n",
    "plt.show()"
   ]
  },
  {
   "cell_type": "code",
   "execution_count": 165,
   "id": "disciplinary-saint",
   "metadata": {},
   "outputs": [
    {
     "data": {
      "image/png": "[encoded data removed]",
      "text/plain": [
       "<Figure size 432x288 with 1 Axes>"
      ]
     },
     "metadata": {
      "needs_background": "light"
     },
     "output_type": "display_data"
    }
   ],
   "source": [
    "##绘制学习曲线 lambda = 100\n",
    "val_cost, train_cost = learning_curve(X_train,y,X_val,yval,k,lamb=100)\n",
    "\n",
    "x2 = np.arange(2,k+1,1)\n",
    "plt.plot(x2,val_cost,label = 'val_cost')\n",
    "plt.plot(x2,train_cost, label = 'train_cost')\n",
    "plt.title('Training data with lambda = 100')\n",
    "plt.legend()\n",
    "plt.show()"
   ]
  },
  {
   "cell_type": "code",
   "execution_count": 166,
   "id": "found-hunger",
   "metadata": {},
   "outputs": [],
   "source": [
    "lamb_candidate = [0,0.001,0.003,0.01,0.03,0.1,0.3,1,3,10]"
   ]
  },
  {
   "cell_type": "code",
   "execution_count": 167,
   "id": "informational-virginia",
   "metadata": {},
   "outputs": [
    {
     "data": {
      "image/png": "[encoded data removed]",
      "text/plain": [
       "<Figure size 432x288 with 1 Axes>"
      ]
     },
     "metadata": {
      "needs_background": "light"
     },
     "output_type": "display_data"
    }
   ],
   "source": [
    "##绘制学习曲线 lambda = 100\n",
    "val_cost = []\n",
    "train_cost = []\n",
    "for lamb in lamb_candidate:\n",
    "    res = fitting(X_train,y,lamb)\n",
    "    costi = cost(res.x,X_train,y)\n",
    "    costj = cost(res.x,X_val,yval)\n",
    "    val_cost.append(costj)\n",
    "    train_cost.append(costi)\n",
    "\n",
    "plt.plot(lamb_candidate,val_cost,label = 'val_cost')\n",
    "plt.plot(lamb_candidate,train_cost, label = 'train_cost')\n",
    "plt.title('Training data')\n",
    "plt.legend()\n",
    "plt.show()"
   ]
  },
  {
   "cell_type": "code",
   "execution_count": 168,
   "id": "transsexual-passenger",
   "metadata": {},
   "outputs": [
    {
     "name": "stdout",
     "output_type": "stream",
     "text": [
      "lamb = 0,cost = 10.055426362410124\n",
      "lamb = 0.001,cost = 11.001927632262907\n",
      "lamb = 0.003,cost = 11.26474655167747\n",
      "lamb = 0.01,cost = 10.880780731411717\n",
      "lamb = 0.03,cost = 10.022100517865269\n",
      "lamb = 0.1,cost = 8.63190793331871\n",
      "lamb = 0.3,cost = 7.3366077892272585\n",
      "lamb = 1,cost = 7.466283751156784\n",
      "lamb = 3,cost = 11.643941860536106\n",
      "lamb = 10,cost = 27.715080254176254\n"
     ]
    }
   ],
   "source": [
    "for lamb in lamb_candidate:\n",
    "    res = fitting(X_train,y,lamb)\n",
    "    cost_data = cost(res.x,X_test,ytest)\n",
    "    print(\"lamb = {},cost = {}\".format(lamb,cost_data))"
   ]
  },
  {
   "cell_type": "markdown",
   "id": "automatic-hello",
   "metadata": {},
   "source": [
    "lamb =0.3 的时候最小，最佳的lambda = 0.3"
   ]
  },
  {
   "cell_type": "code",
   "execution_count": null,
   "id": "speaking-retail",
   "metadata": {},
   "outputs": [],
   "source": []
  }
 ],
 "metadata": {
  "kernelspec": {
   "display_name": "Python 3",
   "language": "python",
   "name": "python3"
  },
  "language_info": {
   "codemirror_mode": {
    "name": "ipython",
    "version": 3
   },
   "file_extension": ".py",
   "mimetype": "text/x-python",
   "name": "python",
   "nbconvert_exporter": "python",
   "pygments_lexer": "ipython3",
   "version": "3.6.9"
  }
 },
 "nbformat": 4,
 "nbformat_minor": 5
}
